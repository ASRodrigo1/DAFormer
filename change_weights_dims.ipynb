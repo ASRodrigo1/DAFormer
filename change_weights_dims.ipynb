{
 "cells": [
  {
   "cell_type": "code",
   "execution_count": 1,
   "id": "8a5cd3b0",
   "metadata": {},
   "outputs": [],
   "source": [
    "import torch"
   ]
  },
  {
   "cell_type": "code",
   "execution_count": 2,
   "id": "92ff092d",
   "metadata": {},
   "outputs": [],
   "source": [
    "weights_file = \"pretrained/mit_b5.pth\"\n",
    "bands = 5"
   ]
  },
  {
   "cell_type": "code",
   "execution_count": 4,
   "id": "f9932192",
   "metadata": {},
   "outputs": [],
   "source": [
    "weights = torch.load(weights_file)"
   ]
  },
  {
   "cell_type": "code",
   "execution_count": 39,
   "id": "cbac775e",
   "metadata": {},
   "outputs": [],
   "source": [
    "layer_name = list(weights.keys())[0]"
   ]
  },
  {
   "cell_type": "code",
   "execution_count": 15,
   "id": "eef2d84f",
   "metadata": {},
   "outputs": [],
   "source": [
    "a = weights[layer_name]"
   ]
  },
  {
   "cell_type": "code",
   "execution_count": 18,
   "id": "a0e9e8e2",
   "metadata": {},
   "outputs": [],
   "source": [
    "z = torch.zeros((64, bands, 7, 7))"
   ]
  },
  {
   "cell_type": "code",
   "execution_count": 21,
   "id": "9d008996",
   "metadata": {},
   "outputs": [
    {
     "data": {
      "text/plain": [
       "torch.Size([64, 5, 7, 7])"
      ]
     },
     "execution_count": 21,
     "metadata": {},
     "output_type": "execute_result"
    }
   ],
   "source": [
    "z.shape"
   ]
  },
  {
   "cell_type": "code",
   "execution_count": 25,
   "id": "98708c80",
   "metadata": {},
   "outputs": [],
   "source": [
    "z[:, 0:3, :, :] = a"
   ]
  },
  {
   "cell_type": "code",
   "execution_count": 27,
   "id": "ad3b72d8",
   "metadata": {},
   "outputs": [],
   "source": [
    "z[:, 3, :, :] = a[:, 0, :, :]\n",
    "z[:, 4, :, :] = a[:, 1, :, :]"
   ]
  },
  {
   "cell_type": "code",
   "execution_count": 29,
   "id": "cb08e76a",
   "metadata": {},
   "outputs": [],
   "source": [
    "weights[layer_name] = z"
   ]
  },
  {
   "cell_type": "code",
   "execution_count": 30,
   "id": "7561fa9c",
   "metadata": {},
   "outputs": [
    {
     "data": {
      "text/plain": [
       "torch.Size([64, 5, 7, 7])"
      ]
     },
     "execution_count": 30,
     "metadata": {},
     "output_type": "execute_result"
    }
   ],
   "source": [
    "weights[layer_name].shape"
   ]
  },
  {
   "cell_type": "code",
   "execution_count": 36,
   "id": "aa11d79a",
   "metadata": {},
   "outputs": [],
   "source": [
    "torch.save(weights, weights_file.split(\".\")[0] + f\"{bands}_bands.pth\")"
   ]
  },
  {
   "cell_type": "code",
   "execution_count": null,
   "id": "a9ca1282",
   "metadata": {},
   "outputs": [],
   "source": []
  }
 ],
 "metadata": {
  "kernelspec": {
   "display_name": "Python 3 (ipykernel)",
   "language": "python",
   "name": "python3"
  },
  "language_info": {
   "codemirror_mode": {
    "name": "ipython",
    "version": 3
   },
   "file_extension": ".py",
   "mimetype": "text/x-python",
   "name": "python",
   "nbconvert_exporter": "python",
   "pygments_lexer": "ipython3",
   "version": "3.8.13"
  }
 },
 "nbformat": 4,
 "nbformat_minor": 5
}
