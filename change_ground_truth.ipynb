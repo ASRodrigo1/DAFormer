{
 "cells": [
  {
   "cell_type": "code",
   "execution_count": 1,
   "id": "88cc4bea",
   "metadata": {},
   "outputs": [],
   "source": [
    "import os\n",
    "from PIL import Image\n",
    "import numpy as np"
   ]
  },
  {
   "cell_type": "code",
   "execution_count": 8,
   "id": "c1b0e49b",
   "metadata": {},
   "outputs": [],
   "source": [
    "folders = [\"train\", \"test\", \"val\"]\n",
    "path = \"dataset/bad ones/512_crop/\""
   ]
  },
  {
   "cell_type": "code",
   "execution_count": 9,
   "id": "7bc56f2c",
   "metadata": {},
   "outputs": [
    {
     "name": "stdout",
     "output_type": "stream",
     "text": [
      "Folder train Files 39\n",
      "Folder test Files 11\n",
      "Folder val Files 5\n"
     ]
    }
   ],
   "source": [
    "for folder in folders:\n",
    "    full_path = path + folder + \"/annotations/\"\n",
    "    files = os.listdir(full_path)\n",
    "    print(\"Folder\", folder, \"Files\", len(files))\n",
    "    \n",
    "    for file in files:\n",
    "        img = Image.open(full_path + file)\n",
    "        gray = img.convert(\"L\")\n",
    "        img.close()\n",
    "        \n",
    "        arr = np.asarray(gray)\n",
    "        arr = np.clip(arr, 0, 1)\n",
    "        \n",
    "        img = Image.fromarray(arr)\n",
    "        img.save(full_path + file)\n",
    "        img.close()"
   ]
  },
  {
   "cell_type": "code",
   "execution_count": null,
   "id": "5da96146",
   "metadata": {},
   "outputs": [],
   "source": []
  }
 ],
 "metadata": {
  "kernelspec": {
   "display_name": "Python 3 (ipykernel)",
   "language": "python",
   "name": "python3"
  },
  "language_info": {
   "codemirror_mode": {
    "name": "ipython",
    "version": 3
   },
   "file_extension": ".py",
   "mimetype": "text/x-python",
   "name": "python",
   "nbconvert_exporter": "python",
   "pygments_lexer": "ipython3",
   "version": "3.8.13"
  }
 },
 "nbformat": 4,
 "nbformat_minor": 5
}
